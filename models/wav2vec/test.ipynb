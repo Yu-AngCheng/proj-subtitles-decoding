{
 "cells": [
  {
   "cell_type": "code",
   "execution_count": 3,
   "metadata": {},
   "outputs": [],
   "source": [
    "from transformers import Wav2Vec2Processor, Wav2Vec2Model\n",
    "import torch\n",
    "import logging\n",
    "import torch.nn as nn\n",
    "\n",
    "import os, sys\n",
    "sys.path.insert(0, os.path.join(os.pardir, os.pardir))\n",
    "\n",
    "# from utils.data import save_pickle,load_pickle\n",
    "\n",
    "\n",
    "import pickle\n",
    "\n",
    "\n",
    "__all__ = [\n",
    "    \"save_pickle\",\n",
    "    \"load_pickle\",\n",
    "]\n",
    "\n",
    "\n",
    "# def save_pickle func\n",
    "def save_pickle(fname, obj):\n",
    "    \"\"\"\n",
    "    Save object to pickle file.\n",
    "    :param fname: The file name to save object.\n",
    "    :param obj: The object to be saved.\n",
    "    \"\"\"\n",
    "    with open(fname, \"wb\") as f:\n",
    "        pickle.dump(obj, f)\n",
    "\n",
    "\n",
    "# def load_pickle func\n",
    "def load_pickle(fname):\n",
    "    \"\"\"\n",
    "    Load object from pickle file.\n",
    "    :param fname: The file name to load object.\n",
    "    :return obj: The object loaded from file.\n",
    "    \"\"\"\n",
    "    with open(fname, \"rb\") as f:\n",
    "        obj = pickle.load(f)\n",
    "    return obj\n",
    "\n",
    "# write a class for wav2vec\n",
    "class wav2vec():\n",
    "    def __init__(self, model_name=\"facebook/wav2vec2-base-960h\", device=\"cpu\"):\n",
    "        self.model_name = model_name\n",
    "        self.device = device\n",
    "        self.processor = Wav2Vec2Processor.from_pretrained(self.model_name)\n",
    "        self.model = Wav2Vec2Model.from_pretrained(self.model_name).to(self.device)\n",
    "        self.logger = logging.getLogger(__name__)\n",
    "        self.logger.info(\"wav2vec model loaded.\")\n",
    "        self.mlp = torch.nn.Sequential(\n",
    "            nn.linear(768, 256),\n",
    "            nn.GELU(),\n",
    "            nn.linear(256, 128),\n",
    "        )\n",
    "\n",
    "    def forward(self, audio, return_tensors=\"pt\", padding=\"longest\"):\n",
    "        input_values = self.processor(audio, return_tensors=return_tensors, padding=padding).input_values.to(self.device)\n",
    "        representation = self.model(input_values)\n",
    "        last_hidden_state = representation.last_hidden_state\n",
    "        return self.mlp(last_hidden_state.permute(0, 2, 1))\n",
    "\n",
    "    def save(self, path):\n",
    "        torch.save(self.model.state_dict(), path)\n",
    "        self.logger.info(\"Wav2Vec2 model saved.\")\n",
    "\n",
    "    def load(self, path):\n",
    "        self.model.load_state_dict(torch.load(path, map_location=self.device))\n",
    "        self.logger.info(\"Wav2Vec2 model loaded.\")"
   ]
  },
  {
   "cell_type": "code",
   "execution_count": 4,
   "metadata": {},
   "outputs": [
    {
     "data": {
      "application/vnd.jupyter.widget-view+json": {
       "model_id": "029e3840ad384820b4a1294fbf9af33b",
       "version_major": 2,
       "version_minor": 0
      },
      "text/plain": [
       "Downloading:   0%|          | 0.00/159 [00:00<?, ?B/s]"
      ]
     },
     "metadata": {},
     "output_type": "display_data"
    },
    {
     "data": {
      "application/vnd.jupyter.widget-view+json": {
       "model_id": "6f8153805a2546938ef34af7178017f3",
       "version_major": 2,
       "version_minor": 0
      },
      "text/plain": [
       "Downloading:   0%|          | 0.00/163 [00:00<?, ?B/s]"
      ]
     },
     "metadata": {},
     "output_type": "display_data"
    },
    {
     "data": {
      "application/vnd.jupyter.widget-view+json": {
       "model_id": "8974a409eb6143d1abf874e65e202b35",
       "version_major": 2,
       "version_minor": 0
      },
      "text/plain": [
       "Downloading:   0%|          | 0.00/1.60k [00:00<?, ?B/s]"
      ]
     },
     "metadata": {},
     "output_type": "display_data"
    },
    {
     "data": {
      "application/vnd.jupyter.widget-view+json": {
       "model_id": "0fbacaacf53b4c74bb57e277cc78dfed",
       "version_major": 2,
       "version_minor": 0
      },
      "text/plain": [
       "Downloading:   0%|          | 0.00/291 [00:00<?, ?B/s]"
      ]
     },
     "metadata": {},
     "output_type": "display_data"
    },
    {
     "data": {
      "application/vnd.jupyter.widget-view+json": {
       "model_id": "8121b65248174fc3873ae39ac61e1e99",
       "version_major": 2,
       "version_minor": 0
      },
      "text/plain": [
       "Downloading:   0%|          | 0.00/85.0 [00:00<?, ?B/s]"
      ]
     },
     "metadata": {},
     "output_type": "display_data"
    },
    {
     "data": {
      "application/vnd.jupyter.widget-view+json": {
       "model_id": "87743e9f975e4bab973ab4c21a4daba7",
       "version_major": 2,
       "version_minor": 0
      },
      "text/plain": [
       "Downloading:   0%|          | 0.00/378M [00:00<?, ?B/s]"
      ]
     },
     "metadata": {},
     "output_type": "display_data"
    },
    {
     "name": "stderr",
     "output_type": "stream",
     "text": [
      "Some weights of the model checkpoint at facebook/wav2vec2-base-960h were not used when initializing Wav2Vec2Model: ['lm_head.bias', 'lm_head.weight']\n",
      "- This IS expected if you are initializing Wav2Vec2Model from the checkpoint of a model trained on another task or with another architecture (e.g. initializing a BertForSequenceClassification model from a BertForPreTraining model).\n",
      "- This IS NOT expected if you are initializing Wav2Vec2Model from the checkpoint of a model that you expect to be exactly identical (initializing a BertForSequenceClassification model from a BertForSequenceClassification model).\n",
      "Some weights of Wav2Vec2Model were not initialized from the model checkpoint at facebook/wav2vec2-base-960h and are newly initialized: ['wav2vec2.masked_spec_embed']\n",
      "You should probably TRAIN this model on a down-stream task to be able to use it for predictions and inference.\n"
     ]
    }
   ],
   "source": [
    "processor = Wav2Vec2Processor.from_pretrained(\"facebook/wav2vec2-base-960h\")\n",
    "model = Wav2Vec2Model.from_pretrained(\"facebook/wav2vec2-base-960h\")"
   ]
  },
  {
   "cell_type": "code",
   "execution_count": 24,
   "metadata": {},
   "outputs": [
    {
     "name": "stderr",
     "output_type": "stream",
     "text": [
      "Some weights of the model checkpoint at facebook/wav2vec2-base-960h were not used when initializing Wav2Vec2Model: ['lm_head.bias', 'lm_head.weight']\n",
      "- This IS expected if you are initializing Wav2Vec2Model from the checkpoint of a model trained on another task or with another architecture (e.g. initializing a BertForSequenceClassification model from a BertForPreTraining model).\n",
      "- This IS NOT expected if you are initializing Wav2Vec2Model from the checkpoint of a model that you expect to be exactly identical (initializing a BertForSequenceClassification model from a BertForSequenceClassification model).\n",
      "Some weights of Wav2Vec2Model were not initialized from the model checkpoint at facebook/wav2vec2-base-960h and are newly initialized: ['wav2vec2.masked_spec_embed']\n",
      "You should probably TRAIN this model on a down-stream task to be able to use it for predictions and inference.\n"
     ]
    }
   ],
   "source": [
    "import torch\n",
    "import torchaudio\n",
    "from transformers import Wav2Vec2Processor, Wav2Vec2Model\n",
    "\n",
    "# Load the audio file\n",
    "waveform, sample_rate = torchaudio.load(\"../../preprocess_skyfall/audio_1-4seconds/segment_1_00-01-24,935_00-01-26,111.mp3\")\n",
    "\n",
    "\n",
    "# Convert stereo to mono\n",
    "if waveform.shape[0] == 2:\n",
    "    waveform = waveform.mean(dim=0, keepdim=True)\n",
    "\n",
    "# Resample to 16kHz if necessary\n",
    "if sample_rate != 16000:\n",
    "    resampler = torchaudio.transforms.Resample(orig_freq=sample_rate, new_freq=16000)\n",
    "    waveform = resampler(waveform)\n",
    "\n",
    "# Remove the extra dimension\n",
    "waveform = waveform.squeeze(0)\n",
    "\n",
    "# Load the processor and model\n",
    "processor = Wav2Vec2Processor.from_pretrained(\"facebook/wav2vec2-base-960h\")\n",
    "model = Wav2Vec2Model.from_pretrained(\"facebook/wav2vec2-base-960h\")\n",
    "\n",
    "# Process the waveform\n",
    "inputs = processor(waveform, sampling_rate=16000, return_tensors=\"pt\", padding=True)\n",
    "\n",
    "# Pass the input through the model\n",
    "with torch.no_grad():\n",
    "    outputs = model(**inputs)\n",
    "\n",
    "# Extract the last hidden states\n",
    "hidden_states = outputs.last_hidden_state\n",
    "\n",
    "# Aggregate to a single representation (if needed)\n",
    "audio_representation = torch.mean(hidden_states, dim=1)\n"
   ]
  },
  {
   "cell_type": "code",
   "execution_count": 26,
   "metadata": {},
   "outputs": [
    {
     "name": "stdout",
     "output_type": "stream",
     "text": [
      "torch.Size([1, 768])\n"
     ]
    }
   ],
   "source": [
    "print(audio_representation.shape)"
   ]
  }
 ],
 "metadata": {
  "kernelspec": {
   "display_name": "Python 3 (ipykernel)",
   "language": "python",
   "name": "python3"
  },
  "language_info": {
   "codemirror_mode": {
    "name": "ipython",
    "version": 3
   },
   "file_extension": ".py",
   "mimetype": "text/x-python",
   "name": "python",
   "nbconvert_exporter": "python",
   "pygments_lexer": "ipython3",
   "version": "3.9.12"
  }
 },
 "nbformat": 4,
 "nbformat_minor": 4
}
