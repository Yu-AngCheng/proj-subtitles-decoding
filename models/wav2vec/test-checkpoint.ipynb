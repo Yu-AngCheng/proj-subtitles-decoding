{
 "cells": [
  {
   "cell_type": "code",
   "execution_count": 3,
   "metadata": {},
   "outputs": [],
   "source": [
    "from transformers import Wav2Vec2Processor, Wav2Vec2Model\n",
    "import torch\n",
    "import logging\n",
    "import torch.nn as nn\n",
    "\n",
    "import os, sys\n",
    "sys.path.insert(0, os.path.join(os.pardir, os.pardir))\n",
    "\n",
    "# from utils.data import save_pickle,load_pickle\n",
    "\n",
    "import pickle\n",
    "\n",
    "\n",
    "__all__ = [\n",
    "    \"save_pickle\",\n",
    "    \"load_pickle\",\n",
    "]\n",
    "\n",
    "\n",
    "# def save_pickle func\n",
    "def save_pickle(fname, obj):\n",
    "    \"\"\"\n",
    "    Save object to pickle file.\n",
    "    :param fname: The file name to save object.\n",
    "    :param obj: The object to be saved.\n",
    "    \"\"\"\n",
    "    with open(fname, \"wb\") as f:\n",
    "        pickle.dump(obj, f)\n",
    "\n",
    "\n",
    "# def load_pickle func\n",
    "def load_pickle(fname):\n",
    "    \"\"\"\n",
    "    Load object from pickle file.\n",
    "    :param fname: The file name to load object.\n",
    "    :return obj: The object loaded from file.\n",
    "    \"\"\"\n",
    "    with open(fname, \"rb\") as f:\n",
    "        obj = pickle.load(f)\n",
    "    return obj\n",
    "# write a class for wav2vec\n",
    "class wav2vec():\n",
    "    def __init__(self, model_name=\"facebook/wav2vec2-base-960h\", device=\"cpu\"):\n",
    "        self.model_name = model_name\n",
    "        self.device = device\n",
    "        self.processor = Wav2Vec2Processor.from_pretrained(self.model_name)\n",
    "        self.model = Wav2Vec2Model.from_pretrained(self.model_name).to(self.device)\n",
    "        self.logger = logging.getLogger(__name__)\n",
    "        self.logger.info(\"wav2vec model loaded.\")\n",
    "        self.mlp = torch.nn.Sequential(\n",
    "            nn.linear(768, 256),\n",
    "            nn.GELU(),\n",
    "            nn.linear(256, 128),\n",
    "        )\n",
    "\n",
    "    def forward(self, audio, return_tensors=\"pt\", padding=\"longest\"):\n",
    "        input_values = self.processor(audio, return_tensors=return_tensors, padding=padding).input_values.to(self.device)\n",
    "        representation = self.model(input_values)\n",
    "        last_hidden_state = representation.last_hidden_state\n",
    "        return self.mlp(last_hidden_state.permute(0, 2, 1))\n",
    "\n",
    "    def save(self, path):\n",
    "        torch.save(self.model.state_dict(), path)\n",
    "        self.logger.info(\"Wav2Vec2 model saved.\")\n",
    "\n",
    "    def load(self, path):\n",
    "        self.model.load_state_dict(torch.load(path, map_location=self.device))\n",
    "        self.logger.info(\"Wav2Vec2 model loaded.\")"
   ]
  },
  {
   "cell_type": "code",
   "execution_count": 4,
   "metadata": {},
   "outputs": [
    {
     "name": "stderr",
     "output_type": "stream",
     "text": [
      "Some weights of the model checkpoint at facebook/wav2vec2-base-960h were not used when initializing Wav2Vec2Model: ['lm_head.weight', 'lm_head.bias']\n",
      "- This IS expected if you are initializing Wav2Vec2Model from the checkpoint of a model trained on another task or with another architecture (e.g. initializing a BertForSequenceClassification model from a BertForPreTraining model).\n",
      "- This IS NOT expected if you are initializing Wav2Vec2Model from the checkpoint of a model that you expect to be exactly identical (initializing a BertForSequenceClassification model from a BertForSequenceClassification model).\n",
      "Some weights of Wav2Vec2Model were not initialized from the model checkpoint at facebook/wav2vec2-base-960h and are newly initialized: ['wav2vec2.masked_spec_embed']\n",
      "You should probably TRAIN this model on a down-stream task to be able to use it for predictions and inference.\n"
     ]
    }
   ],
   "source": [
    "processor = Wav2Vec2Processor.from_pretrained(\"facebook/wav2vec2-base-960h\")\n",
    "model = Wav2Vec2Model.from_pretrained(\"facebook/wav2vec2-base-960h\")"
   ]
  },
  {
   "cell_type": "code",
   "execution_count": 5,
   "metadata": {},
   "outputs": [
    {
     "name": "stderr",
     "output_type": "stream",
     "text": [
      "Found cached dataset librispeech_asr_dummy (/home/smtlzy250/.cache/huggingface/datasets/patrickvonplaten___librispeech_asr_dummy/clean/2.1.0/f2c70a4d03ab4410954901bde48c54b85ca1b7f9bf7d616e7e2a72b5ee6ddbfc)\n"
     ]
    }
   ],
   "source": [
    "from datasets import load_dataset\n",
    "ds = load_dataset(\"patrickvonplaten/librispeech_asr_dummy\", \"clean\", split=\"validation\")"
   ]
  },
  {
   "cell_type": "code",
   "execution_count": 7,
   "metadata": {},
   "outputs": [
    {
     "name": "stdout",
     "output_type": "stream",
     "text": [
      "Original array shape: torch.Size([1, 1, 66150])\n",
      "Downsampled array shape: torch.Size([48000])\n",
      "Original sample rate: 22050\n",
      "Target sample rate: 16000\n"
     ]
    }
   ],
   "source": [
    "import torch\n",
    "import torch.nn.functional as F\n",
    "\n",
    "# Define the original sample rate and target sample rate\n",
    "original_sample_rate = 22050\n",
    "target_sample_rate = 16000\n",
    "time_length = 3\n",
    "# Generate a random audio array as an example\n",
    "audio_array = torch.randn(original_sample_rate * time_length)  \n",
    "# Calculate the original time length\n",
    "original_time_length = len(audio_array) / original_sample_rate\n",
    "# Calculate the target time length\n",
    "target_time_length = original_time_length * (target_sample_rate / original_sample_rate)\n",
    "# Reshape the audio array to match the time length\n",
    "audio_array = audio_array.view(1, 1, -1)\n",
    "# Perform downsampling using interpolate function\n",
    "# downsampled_array = F.interpolate(audio_array, size=(int(target_time_length * target_sample_rate)))\n",
    "downsampled_array = F.interpolate(audio_array, size=(int(time_length * target_sample_rate)))\n",
    "# Reshape the downsampled array to its final shape\n",
    "downsampled_array = downsampled_array.view(-1)\n",
    "\n",
    "# Print the shapes and sample rates\n",
    "print(\"Original array shape:\", audio_array.shape)\n",
    "print(\"Downsampled array shape:\", downsampled_array.shape)\n",
    "print(\"Original sample rate:\", original_sample_rate)\n",
    "print(\"Target sample rate:\", target_sample_rate)\n"
   ]
  },
  {
   "cell_type": "code",
   "execution_count": 12,
   "metadata": {},
   "outputs": [
    {
     "name": "stdout",
     "output_type": "stream",
     "text": [
      "start read file\n",
      "read file done\n"
     ]
    }
   ],
   "source": [
    "print('start read file')\n",
    "file = load_pickle(\"F:\\\\PKU2\\\\curriculum\\\\computer_science\\\\NLP\\\\Hw4\\\\mycode\\\\data\\\\meg.gwilliams2022neural\\\\sub-01\\\\dataset.origin\")\n",
    "print('read file done')"
   ]
  },
  {
   "cell_type": "code",
   "execution_count": 14,
   "metadata": {},
   "outputs": [
    {
     "name": "stdout",
     "output_type": "stream",
     "text": [
      "dict_keys(['name', 'audio', 'data', 'chan_pos'])\n"
     ]
    }
   ],
   "source": [
    "print(file['train'][0].keys())\n",
    "train,test = file['train'],file['test']"
   ]
  },
  {
   "cell_type": "code",
   "execution_count": 21,
   "metadata": {},
   "outputs": [
    {
     "name": "stderr",
     "output_type": "stream",
     "text": [
      "It is strongly recommended to pass the ``sampling_rate`` argument to this function. Failing to do so can result in silent errors that might be hard to debug.\n"
     ]
    },
    {
     "name": "stdout",
     "output_type": "stream",
     "text": [
      "66150\n"
     ]
    }
   ],
   "source": [
    "audio_length = len(file['train'][0][\"audio\"][1])\n",
    "print(audio_length)\n",
    "import numpy as np\n",
    "batch_audio = np.zeros((2,audio_length))\n",
    "batch_audio[0] = file['train'][0][\"audio\"][1]\n",
    "batch_audio[1] = file['train'][1][\"audio\"][1]\n",
    "\n",
    "\n",
    "input_values = processor(batch_audio,return_tensors=\"pt\", padding=\"longest\").input_values  # Batch size 1"
   ]
  },
  {
   "cell_type": "code",
   "execution_count": 8,
   "metadata": {},
   "outputs": [
    {
     "name": "stdout",
     "output_type": "stream",
     "text": [
      "start read file\n"
     ]
    },
    {
     "ename": "ValueError",
     "evalue": "could not convert string to int",
     "output_type": "error",
     "traceback": [
      "\u001b[0;31m---------------------------------------------------------------------------\u001b[0m",
      "\u001b[0;31mValueError\u001b[0m                                Traceback (most recent call last)",
      "Input \u001b[0;32mIn [8]\u001b[0m, in \u001b[0;36m<cell line: 2>\u001b[0;34m()\u001b[0m\n\u001b[1;32m      1\u001b[0m \u001b[38;5;28mprint\u001b[39m(\u001b[38;5;124m'\u001b[39m\u001b[38;5;124mstart read file\u001b[39m\u001b[38;5;124m'\u001b[39m)\n\u001b[0;32m----> 2\u001b[0m file \u001b[38;5;241m=\u001b[39m \u001b[43mload_pickle\u001b[49m\u001b[43m(\u001b[49m\u001b[38;5;124;43m\"\u001b[39;49m\u001b[38;5;124;43m../../preprocess_skyfall/audio_1-4seconds/segment_1_00-01-24,935_00-01-26,111.mp3\u001b[39;49m\u001b[38;5;124;43m\"\u001b[39;49m\u001b[43m)\u001b[49m\n\u001b[1;32m      3\u001b[0m \u001b[38;5;28mprint\u001b[39m(\u001b[38;5;124m'\u001b[39m\u001b[38;5;124mread file done\u001b[39m\u001b[38;5;124m'\u001b[39m)\n",
      "Input \u001b[0;32mIn [3]\u001b[0m, in \u001b[0;36mload_pickle\u001b[0;34m(fname)\u001b[0m\n\u001b[1;32m     33\u001b[0m \u001b[38;5;124;03m\"\"\"\u001b[39;00m\n\u001b[1;32m     34\u001b[0m \u001b[38;5;124;03mLoad object from pickle file.\u001b[39;00m\n\u001b[1;32m     35\u001b[0m \u001b[38;5;124;03m:param fname: The file name to load object.\u001b[39;00m\n\u001b[1;32m     36\u001b[0m \u001b[38;5;124;03m:return obj: The object loaded from file.\u001b[39;00m\n\u001b[1;32m     37\u001b[0m \u001b[38;5;124;03m\"\"\"\u001b[39;00m\n\u001b[1;32m     38\u001b[0m \u001b[38;5;28;01mwith\u001b[39;00m \u001b[38;5;28mopen\u001b[39m(fname, \u001b[38;5;124m\"\u001b[39m\u001b[38;5;124mrb\u001b[39m\u001b[38;5;124m\"\u001b[39m) \u001b[38;5;28;01mas\u001b[39;00m f:\n\u001b[0;32m---> 39\u001b[0m     obj \u001b[38;5;241m=\u001b[39m \u001b[43mpickle\u001b[49m\u001b[38;5;241;43m.\u001b[39;49m\u001b[43mload\u001b[49m\u001b[43m(\u001b[49m\u001b[43mf\u001b[49m\u001b[43m)\u001b[49m\n\u001b[1;32m     40\u001b[0m \u001b[38;5;28;01mreturn\u001b[39;00m obj\n",
      "\u001b[0;31mValueError\u001b[0m: could not convert string to int"
     ]
    }
   ],
   "source": [
    "print('start read file')\n",
    "file = load_pickle(\"../../preprocess_skyfall/audio_1-4seconds/segment_1_00-01-24,935_00-01-26,111.mp3\")\n",
    "print('read file done')"
   ]
  },
  {
   "cell_type": "code",
   "execution_count": null,
   "metadata": {},
   "outputs": [],
   "source": [
    "audio_length = "
   ]
  }
 ],
 "metadata": {
  "kernelspec": {
   "display_name": "Python 3 (ipykernel)",
   "language": "python",
   "name": "python3"
  },
  "language_info": {
   "codemirror_mode": {
    "name": "ipython",
    "version": 3
   },
   "file_extension": ".py",
   "mimetype": "text/x-python",
   "name": "python",
   "nbconvert_exporter": "python",
   "pygments_lexer": "ipython3",
   "version": "3.9.12"
  }
 },
 "nbformat": 4,
 "nbformat_minor": 4
}
