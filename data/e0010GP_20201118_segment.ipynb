{
 "cells": [
  {
   "cell_type": "code",
   "execution_count": 1,
   "id": "a023eecd-5499-4ced-bb7c-586e9fee18bd",
   "metadata": {},
   "outputs": [],
   "source": [
    "import os\n",
    "import numpy as np\n",
    "import re"
   ]
  },
  {
   "cell_type": "code",
   "execution_count": 2,
   "id": "9dde9dc6",
   "metadata": {},
   "outputs": [],
   "source": [
    "idx_audio = np.hstack([np.arange(1, 9), np.arange(10, 16), np.arange(18, 21)]).tolist()\n",
    "idx_seeg = [1, 2, 3, 4, 5, 6, 7, 8, 11, 12, 13, 14, 15, 16, 19, 20, 21]"
   ]
  },
  {
   "cell_type": "code",
   "execution_count": 3,
   "id": "32028af0",
   "metadata": {},
   "outputs": [],
   "source": [
    "# load greenbook_01.wav to greenbook_19.wav and concatenate them into numpy array\n",
    "import soundfile as sf\n",
    "import numpy as np\n",
    "\n",
    "filenames = [\"e0010GP_20201118/xmen/xmen_{:02d}.wav\".format(i) for i in range(1, 25)]\n",
    "concatenated_audio = []\n",
    "# I need to have a list counting the start time and end time of each audio file\n",
    "# I will use the following list for the purpose\n",
    "audio_time = []\n",
    "start_time = 0\n",
    "\n",
    "for filename in filenames:\n",
    "    audio, samplerate = sf.read(filename)\n",
    "    audio = np.mean(audio, axis=1)\n",
    "    concatenated_audio.append(audio)\n",
    "    audio_time.append([start_time, start_time + len(audio)/samplerate])\n",
    "    start_time += len(audio)/samplerate\n",
    "\n",
    "concatenated_audio = np.concatenate(concatenated_audio)\n",
    "audio_time = np.array(audio_time)\n"
   ]
  },
  {
   "cell_type": "code",
   "execution_count": 4,
   "id": "d4ea3857",
   "metadata": {},
   "outputs": [],
   "source": [
    "audio_time[idx_audio]\n",
    "true_start_time = [0]\n",
    "for idx in idx_audio:\n",
    "    true_start_time.append(audio_time[idx][1] - audio_time[idx][0])\n",
    "true_start_time = np.cumsum(true_start_time)[:-1]"
   ]
  },
  {
   "cell_type": "code",
   "execution_count": 5,
   "id": "b472f28c",
   "metadata": {},
   "outputs": [],
   "source": [
    "with open(\"XMen.srt\", \"r\") as f:\n",
    "    lines = f.readlines()\n",
    "    lines = [line.strip() for line in lines]\n",
    "segments = []\n",
    "for line in lines:\n",
    "    if '-->' in line:\n",
    "        time_matches = re.findall(r'\\d{2}:\\d{2}:\\d{2},\\d{3}', line)\n",
    "        if len(time_matches) == 2:\n",
    "            h1, m1, s1 = map(float, time_matches[0].replace(',', '.').split(':'))\n",
    "            start_time = h1 * 3600.0 + m1 * 60.0 + s1 + 0.20\n",
    "            h2, m2, s2 = map(float, time_matches[1].replace(',', '.').split(':'))\n",
    "            end_time = h2 * 3600.0 + m2 * 60.0 + s2 + 0.20\n",
    "\n",
    "            flag = False\n",
    "            for idx in range(len(audio_time)):\n",
    "                if ((audio_time[idx][0] <= start_time <= audio_time[idx][1]) and (audio_time[idx][0] <= end_time <= audio_time[idx][1])):\n",
    "                    flag = True\n",
    "                    break\n",
    "            if flag == False:\n",
    "                continue\n",
    "            if idx not in idx_audio:\n",
    "                continue\n",
    "            else:\n",
    "                start_time = start_time - audio_time[idx][0] + true_start_time[idx_audio.index(idx)]\n",
    "                end_time = end_time - audio_time[idx][0] + true_start_time[idx_audio.index(idx)]\n",
    "                segments.append((start_time, end_time))"
   ]
  },
  {
   "cell_type": "code",
   "execution_count": 6,
   "id": "6fe357d3",
   "metadata": {},
   "outputs": [],
   "source": [
    "audio_segments = []\n",
    "for segment in segments:\n",
    "    start_time, end_time = segment\n",
    "    start_index = int(start_time * samplerate)\n",
    "    end_index = int(end_time * samplerate)\n",
    "    audio_segment = concatenated_audio[start_index:end_index]\n",
    "    audio_segments.append(audio_segment)    "
   ]
  },
  {
   "cell_type": "code",
   "execution_count": 7,
   "id": "a704aa8f",
   "metadata": {},
   "outputs": [],
   "source": [
    "seeg_contacts = np.load(\"e0010GP_20201118_seeg_contacts.npy\")\n",
    "seeg_sr = 1024.0\n",
    "seeg_segments = []\n",
    "for segment in segments:\n",
    "    start_time, end_time = segment\n",
    "    start_index = int(start_time * seeg_sr)\n",
    "    end_index = int(end_time * seeg_sr)\n",
    "    seeg_segment = seeg_contacts[:, start_index:end_index]\n",
    "    seeg_segments.append(seeg_segment)\n"
   ]
  },
  {
   "cell_type": "code",
   "execution_count": 8,
   "id": "9e12a67b",
   "metadata": {},
   "outputs": [],
   "source": [
    "np.save('e0010GP_20201118_data_segmented.npy', {'audio': audio_segments, 'seeg': seeg_segments})"
   ]
  },
  {
   "cell_type": "code",
   "execution_count": 17,
   "id": "77a7f7c2",
   "metadata": {},
   "outputs": [
    {
     "name": "stdout",
     "output_type": "stream",
     "text": [
      "1788\n"
     ]
    }
   ],
   "source": [
    "temp = np.load('e0006KR_data_segmented.npy', allow_pickle=True).item()\n",
    "audio_segments = temp['audio']\n",
    "seeg_segments = temp['seeg']\n",
    "print(len(seeg_segments))"
   ]
  },
  {
   "cell_type": "code",
   "execution_count": 14,
   "id": "be069dea",
   "metadata": {},
   "outputs": [],
   "source": [
    "# # play the audio of audio_segments[21]\n",
    "# import sounddevice as sd\n",
    "# sd.play(audio_segments[251], samplerate)"
   ]
  }
 ],
 "metadata": {
  "kernelspec": {
   "display_name": "Python 3 (ipykernel)",
   "language": "python",
   "name": "python3"
  },
  "language_info": {
   "codemirror_mode": {
    "name": "ipython",
    "version": 3
   },
   "file_extension": ".py",
   "mimetype": "text/x-python",
   "name": "python",
   "nbconvert_exporter": "python",
   "pygments_lexer": "ipython3",
   "version": "3.10.13"
  }
 },
 "nbformat": 4,
 "nbformat_minor": 5
}
