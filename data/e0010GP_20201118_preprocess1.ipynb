{
 "cells": [
  {
   "cell_type": "code",
   "execution_count": 1,
   "metadata": {},
   "outputs": [],
   "source": [
    "import bz2\n",
    "import numpy as np\n",
    "import pickle\n",
    "import _pickle as cPickle\n",
    "from tqdm.notebook import tqdm"
   ]
  },
  {
   "cell_type": "code",
   "execution_count": 2,
   "metadata": {},
   "outputs": [],
   "source": [
    "event_file = \"e0010GP_20201118/2020-11-18_e0010GP_Events.pbz2\"\n",
    "data_event = bz2.BZ2File(event_file,\"rb\")\n",
    "data_event = cPickle.load(data_event)\n",
    "chapter_segments = []\n",
    "durations = []\n",
    "# drop the first value of data_event['signal'] because it is the start of the recording\n",
    "data_event['signal'] = data_event['signal'][1:]\n",
    "for i in range(len(data_event['signal'])):\n",
    "    if data_event['signal'][i][0] == 9:\n",
    "        start_time = data_event['signal'][i][1]\n",
    "    elif data_event['signal'][i][0] == 18:\n",
    "        end_time = data_event['signal'][i][1]\n",
    "        chapter_segments.append((start_time, end_time))\n",
    "        durations.append(end_time - start_time)"
   ]
  },
  {
   "cell_type": "code",
   "execution_count": 3,
   "metadata": {},
   "outputs": [],
   "source": [
    "chapter_segments = chapter_segments[53:]\n",
    "durations = durations[53:]"
   ]
  },
  {
   "cell_type": "code",
   "execution_count": 4,
   "metadata": {},
   "outputs": [
    {
     "name": "stdout",
     "output_type": "stream",
     "text": [
      "['e0010GP_20201118/xmen\\\\xmen_01.wav', 'e0010GP_20201118/xmen\\\\xmen_02.wav', 'e0010GP_20201118/xmen\\\\xmen_03.wav', 'e0010GP_20201118/xmen\\\\xmen_04.wav', 'e0010GP_20201118/xmen\\\\xmen_05.wav', 'e0010GP_20201118/xmen\\\\xmen_06.wav', 'e0010GP_20201118/xmen\\\\xmen_07.wav', 'e0010GP_20201118/xmen\\\\xmen_08.wav', 'e0010GP_20201118/xmen\\\\xmen_09.wav', 'e0010GP_20201118/xmen\\\\xmen_10.wav', 'e0010GP_20201118/xmen\\\\xmen_11.wav', 'e0010GP_20201118/xmen\\\\xmen_12.wav', 'e0010GP_20201118/xmen\\\\xmen_13.wav', 'e0010GP_20201118/xmen\\\\xmen_14.wav', 'e0010GP_20201118/xmen\\\\xmen_15.wav', 'e0010GP_20201118/xmen\\\\xmen_16.wav', 'e0010GP_20201118/xmen\\\\xmen_17.wav', 'e0010GP_20201118/xmen\\\\xmen_18.wav', 'e0010GP_20201118/xmen\\\\xmen_19.wav', 'e0010GP_20201118/xmen\\\\xmen_20.wav', 'e0010GP_20201118/xmen\\\\xmen_21.wav', 'e0010GP_20201118/xmen\\\\xmen_22.wav', 'e0010GP_20201118/xmen\\\\xmen_23.wav', 'e0010GP_20201118/xmen\\\\xmen_24.wav']\n"
     ]
    }
   ],
   "source": [
    "import glob\n",
    "# import every file that ends with .wav in the folder e0010GP_20201118/xmen\n",
    "audio_files = glob.glob(\"e0010GP_20201118/xmen/*.wav\")\n",
    "audio_files.sort()\n",
    "print(audio_files) \n",
    "# calculate the duration of each audio file, and map the name and the duration of the audio file\n",
    "import wave\n",
    "audio_duration = []\n",
    "for audio_file in audio_files:\n",
    "    with wave.open(audio_file, 'rb') as f:\n",
    "        frames = f.getnframes()\n",
    "        rate = f.getframerate()\n",
    "        duration = frames / float(rate)\n",
    "        audio_duration.append(duration)\n",
    "audio_duration = np.array(audio_duration)"
   ]
  },
  {
   "cell_type": "code",
   "execution_count": 5,
   "metadata": {},
   "outputs": [],
   "source": [
    "# for each chapter, look for the audio file that has the closest duration to the chapter duration\n",
    "chapter_audio = []\n",
    "for i in range(len(durations)):\n",
    "    chapter_duration = durations[i]\n",
    "    diff = np.abs(audio_duration - chapter_duration/1024)\n",
    "    index = np.argmin(diff)\n",
    "    chapter_audio.append((chapter_segments[i], audio_files[index]))"
   ]
  },
  {
   "cell_type": "code",
   "execution_count": 6,
   "metadata": {},
   "outputs": [
    {
     "name": "stdout",
     "output_type": "stream",
     "text": [
      "[244.288      178.00533333 333.71733333 316.032      468.672\n",
      " 179.66933333 244.992      345.62133333 300.69333333 145.6\n",
      " 190.93333333 163.02933333 260.032      143.68       178.624\n",
      " 173.71733333 277.84533333]\n",
      "[244.60742188 178.33984375 333.99707031 316.42480469 469.02050781\n",
      " 179.9765625  245.22460938 345.95996094 300.9921875  145.94726562\n",
      " 191.38574219 163.3828125  260.32128906 144.05273438 178.88671875\n",
      " 174.08691406 278.1796875 ]\n"
     ]
    }
   ],
   "source": [
    "idx_audio = np.hstack([np.arange(1, 9), np.arange(10, 16), np.arange(18, 21)])\n",
    "print(audio_duration[idx_audio])\n",
    "idx_seeg = [1, 2, 3, 4, 5, 6, 7, 8, 11, 12, 13, 14, 15, 16, 19, 20, 21]\n",
    "print(np.array(durations)[idx_seeg]/1024)"
   ]
  },
  {
   "cell_type": "code",
   "execution_count": 7,
   "metadata": {},
   "outputs": [
    {
     "name": "stdout",
     "output_type": "stream",
     "text": [
      "['e0010GP_20201118\\\\2020-11-18_e0010GP_A-AMY1.pbz2', 'e0010GP_20201118\\\\2020-11-18_e0010GP_A-AMY10.pbz2', 'e0010GP_20201118\\\\2020-11-18_e0010GP_A-AMY11.pbz2', 'e0010GP_20201118\\\\2020-11-18_e0010GP_A-AMY12.pbz2', 'e0010GP_20201118\\\\2020-11-18_e0010GP_A-AMY2.pbz2', 'e0010GP_20201118\\\\2020-11-18_e0010GP_A-AMY3.pbz2', 'e0010GP_20201118\\\\2020-11-18_e0010GP_A-AMY4.pbz2', 'e0010GP_20201118\\\\2020-11-18_e0010GP_A-AMY5.pbz2', 'e0010GP_20201118\\\\2020-11-18_e0010GP_A-AMY6.pbz2', 'e0010GP_20201118\\\\2020-11-18_e0010GP_A-AMY7.pbz2', 'e0010GP_20201118\\\\2020-11-18_e0010GP_A-AMY8.pbz2', 'e0010GP_20201118\\\\2020-11-18_e0010GP_A-AMY9.pbz2', 'e0010GP_20201118\\\\2020-11-18_e0010GP_B-PHIP1.pbz2', 'e0010GP_20201118\\\\2020-11-18_e0010GP_B-PHIP10.pbz2', 'e0010GP_20201118\\\\2020-11-18_e0010GP_B-PHIP11.pbz2', 'e0010GP_20201118\\\\2020-11-18_e0010GP_B-PHIP12.pbz2', 'e0010GP_20201118\\\\2020-11-18_e0010GP_B-PHIP2.pbz2', 'e0010GP_20201118\\\\2020-11-18_e0010GP_B-PHIP3.pbz2', 'e0010GP_20201118\\\\2020-11-18_e0010GP_B-PHIP4.pbz2', 'e0010GP_20201118\\\\2020-11-18_e0010GP_B-PHIP5.pbz2', 'e0010GP_20201118\\\\2020-11-18_e0010GP_B-PHIP6.pbz2', 'e0010GP_20201118\\\\2020-11-18_e0010GP_B-PHIP7.pbz2', 'e0010GP_20201118\\\\2020-11-18_e0010GP_B-PHIP8.pbz2', 'e0010GP_20201118\\\\2020-11-18_e0010GP_B-PHIP9.pbz2', 'e0010GP_20201118\\\\2020-11-18_e0010GP_C-MHIP1.pbz2', 'e0010GP_20201118\\\\2020-11-18_e0010GP_C-MHIP10.pbz2', 'e0010GP_20201118\\\\2020-11-18_e0010GP_C-MHIP11.pbz2', 'e0010GP_20201118\\\\2020-11-18_e0010GP_C-MHIP12.pbz2', 'e0010GP_20201118\\\\2020-11-18_e0010GP_C-MHIP2.pbz2', 'e0010GP_20201118\\\\2020-11-18_e0010GP_C-MHIP3.pbz2', 'e0010GP_20201118\\\\2020-11-18_e0010GP_C-MHIP4.pbz2', 'e0010GP_20201118\\\\2020-11-18_e0010GP_C-MHIP5.pbz2', 'e0010GP_20201118\\\\2020-11-18_e0010GP_C-MHIP6.pbz2', 'e0010GP_20201118\\\\2020-11-18_e0010GP_C-MHIP7.pbz2', 'e0010GP_20201118\\\\2020-11-18_e0010GP_C-MHIP8.pbz2', 'e0010GP_20201118\\\\2020-11-18_e0010GP_C-MHIP9.pbz2', 'e0010GP_20201118\\\\2020-11-18_e0010GP_D-OFC1.pbz2', 'e0010GP_20201118\\\\2020-11-18_e0010GP_D-OFC10.pbz2', 'e0010GP_20201118\\\\2020-11-18_e0010GP_D-OFC11.pbz2', 'e0010GP_20201118\\\\2020-11-18_e0010GP_D-OFC12.pbz2', 'e0010GP_20201118\\\\2020-11-18_e0010GP_D-OFC13.pbz2', 'e0010GP_20201118\\\\2020-11-18_e0010GP_D-OFC14.pbz2', 'e0010GP_20201118\\\\2020-11-18_e0010GP_D-OFC15.pbz2', 'e0010GP_20201118\\\\2020-11-18_e0010GP_D-OFC2.pbz2', 'e0010GP_20201118\\\\2020-11-18_e0010GP_D-OFC3.pbz2', 'e0010GP_20201118\\\\2020-11-18_e0010GP_D-OFC4.pbz2', 'e0010GP_20201118\\\\2020-11-18_e0010GP_D-OFC5.pbz2', 'e0010GP_20201118\\\\2020-11-18_e0010GP_D-OFC6.pbz2', 'e0010GP_20201118\\\\2020-11-18_e0010GP_D-OFC7.pbz2', 'e0010GP_20201118\\\\2020-11-18_e0010GP_D-OFC8.pbz2', 'e0010GP_20201118\\\\2020-11-18_e0010GP_D-OFC9.pbz2', 'e0010GP_20201118\\\\2020-11-18_e0010GP_E-PFC1.pbz2', 'e0010GP_20201118\\\\2020-11-18_e0010GP_E-PFC10.pbz2', 'e0010GP_20201118\\\\2020-11-18_e0010GP_E-PFC11.pbz2', 'e0010GP_20201118\\\\2020-11-18_e0010GP_E-PFC12.pbz2', 'e0010GP_20201118\\\\2020-11-18_e0010GP_E-PFC2.pbz2', 'e0010GP_20201118\\\\2020-11-18_e0010GP_E-PFC3.pbz2', 'e0010GP_20201118\\\\2020-11-18_e0010GP_E-PFC4.pbz2', 'e0010GP_20201118\\\\2020-11-18_e0010GP_E-PFC5.pbz2', 'e0010GP_20201118\\\\2020-11-18_e0010GP_E-PFC6.pbz2', 'e0010GP_20201118\\\\2020-11-18_e0010GP_E-PFC7.pbz2', 'e0010GP_20201118\\\\2020-11-18_e0010GP_E-PFC8.pbz2', 'e0010GP_20201118\\\\2020-11-18_e0010GP_E-PFC9.pbz2', 'e0010GP_20201118\\\\2020-11-18_e0010GP_Events.pbz2', 'e0010GP_20201118\\\\2020-11-18_e0010GP_F-DMPF1.pbz2', 'e0010GP_20201118\\\\2020-11-18_e0010GP_F-DMPF10.pbz2', 'e0010GP_20201118\\\\2020-11-18_e0010GP_F-DMPF11.pbz2', 'e0010GP_20201118\\\\2020-11-18_e0010GP_F-DMPF12.pbz2', 'e0010GP_20201118\\\\2020-11-18_e0010GP_F-DMPF2.pbz2', 'e0010GP_20201118\\\\2020-11-18_e0010GP_F-DMPF3.pbz2', 'e0010GP_20201118\\\\2020-11-18_e0010GP_F-DMPF4.pbz2', 'e0010GP_20201118\\\\2020-11-18_e0010GP_F-DMPF5.pbz2', 'e0010GP_20201118\\\\2020-11-18_e0010GP_F-DMPF6.pbz2', 'e0010GP_20201118\\\\2020-11-18_e0010GP_F-DMPF7.pbz2', 'e0010GP_20201118\\\\2020-11-18_e0010GP_F-DMPF8.pbz2', 'e0010GP_20201118\\\\2020-11-18_e0010GP_F-DMPF9.pbz2', 'e0010GP_20201118\\\\2020-11-18_e0010GP_G-APFC1.pbz2', 'e0010GP_20201118\\\\2020-11-18_e0010GP_G-APFC10.pbz2', 'e0010GP_20201118\\\\2020-11-18_e0010GP_G-APFC2.pbz2', 'e0010GP_20201118\\\\2020-11-18_e0010GP_G-APFC3.pbz2', 'e0010GP_20201118\\\\2020-11-18_e0010GP_G-APFC4.pbz2', 'e0010GP_20201118\\\\2020-11-18_e0010GP_G-APFC5.pbz2', 'e0010GP_20201118\\\\2020-11-18_e0010GP_G-APFC6.pbz2', 'e0010GP_20201118\\\\2020-11-18_e0010GP_G-APFC7.pbz2', 'e0010GP_20201118\\\\2020-11-18_e0010GP_G-APFC8.pbz2', 'e0010GP_20201118\\\\2020-11-18_e0010GP_G-APFC9.pbz2', 'e0010GP_20201118\\\\2020-11-18_e0010GP_H-PPFC1.pbz2', 'e0010GP_20201118\\\\2020-11-18_e0010GP_H-PPFC10.pbz2', 'e0010GP_20201118\\\\2020-11-18_e0010GP_H-PPFC2.pbz2', 'e0010GP_20201118\\\\2020-11-18_e0010GP_H-PPFC3.pbz2', 'e0010GP_20201118\\\\2020-11-18_e0010GP_H-PPFC4.pbz2', 'e0010GP_20201118\\\\2020-11-18_e0010GP_H-PPFC5.pbz2', 'e0010GP_20201118\\\\2020-11-18_e0010GP_H-PPFC6.pbz2', 'e0010GP_20201118\\\\2020-11-18_e0010GP_H-PPFC7.pbz2', 'e0010GP_20201118\\\\2020-11-18_e0010GP_H-PPFC8.pbz2', 'e0010GP_20201118\\\\2020-11-18_e0010GP_H-PPFC9.pbz2', 'e0010GP_20201118\\\\2020-11-18_e0010GP_I-POSF1.pbz2', 'e0010GP_20201118\\\\2020-11-18_e0010GP_I-POSF10.pbz2', 'e0010GP_20201118\\\\2020-11-18_e0010GP_I-POSF11.pbz2', 'e0010GP_20201118\\\\2020-11-18_e0010GP_I-POSF12.pbz2', 'e0010GP_20201118\\\\2020-11-18_e0010GP_I-POSF13.pbz2', 'e0010GP_20201118\\\\2020-11-18_e0010GP_I-POSF14.pbz2', 'e0010GP_20201118\\\\2020-11-18_e0010GP_I-POSF15.pbz2', 'e0010GP_20201118\\\\2020-11-18_e0010GP_I-POSF2.pbz2', 'e0010GP_20201118\\\\2020-11-18_e0010GP_I-POSF3.pbz2', 'e0010GP_20201118\\\\2020-11-18_e0010GP_I-POSF4.pbz2', 'e0010GP_20201118\\\\2020-11-18_e0010GP_I-POSF5.pbz2', 'e0010GP_20201118\\\\2020-11-18_e0010GP_I-POSF6.pbz2', 'e0010GP_20201118\\\\2020-11-18_e0010GP_I-POSF7.pbz2', 'e0010GP_20201118\\\\2020-11-18_e0010GP_I-POSF8.pbz2', 'e0010GP_20201118\\\\2020-11-18_e0010GP_I-POSF9.pbz2']\n"
     ]
    }
   ],
   "source": [
    "seeg_files = glob.glob(\"e0010GP_20201118/*.pbz2\")\n",
    "seeg_files.sort()\n",
    "print(seeg_files)\n",
    "contact_names = []\n",
    "for seeg_file in seeg_files:\n",
    "    # seeg_file is f\"e0010GP_20201118/2020-11-18_e0010GP_{contact}.pbz2\"\n",
    "    contact = seeg_file.split(\"_\")[-1].split(\".\")[0]\n",
    "    contact_names.append(contact)"
   ]
  },
  {
   "cell_type": "code",
   "execution_count": 8,
   "metadata": {},
   "outputs": [
    {
     "data": {
      "application/vnd.jupyter.widget-view+json": {
       "model_id": "efcd0f4b03cf402bb05aa19081435a94",
       "version_major": 2,
       "version_minor": 0
      },
      "text/plain": [
       "  0%|          | 0/111 [00:00<?, ?it/s]"
      ]
     },
     "metadata": {},
     "output_type": "display_data"
    },
    {
     "ename": "KeyboardInterrupt",
     "evalue": "",
     "output_type": "error",
     "traceback": [
      "\u001b[1;31m---------------------------------------------------------------------------\u001b[0m",
      "\u001b[1;31mKeyboardInterrupt\u001b[0m                         Traceback (most recent call last)",
      "Cell \u001b[1;32mIn[8], line 8\u001b[0m\n\u001b[0;32m      6\u001b[0m filename \u001b[38;5;241m=\u001b[39m \u001b[38;5;124mf\u001b[39m\u001b[38;5;124m\"\u001b[39m\u001b[38;5;124me0010GP_20201118/2020-11-18_e0010GP_\u001b[39m\u001b[38;5;132;01m{\u001b[39;00mcontact\u001b[38;5;132;01m}\u001b[39;00m\u001b[38;5;124m.pbz2\u001b[39m\u001b[38;5;124m\"\u001b[39m\n\u001b[0;32m      7\u001b[0m data \u001b[38;5;241m=\u001b[39mbz2\u001b[38;5;241m.\u001b[39mBZ2File(filename,\u001b[38;5;124m\"\u001b[39m\u001b[38;5;124mrb\u001b[39m\u001b[38;5;124m\"\u001b[39m)\n\u001b[1;32m----> 8\u001b[0m data \u001b[38;5;241m=\u001b[39m\u001b[43mcPickle\u001b[49m\u001b[38;5;241;43m.\u001b[39;49m\u001b[43mload\u001b[49m\u001b[43m(\u001b[49m\u001b[43mdata\u001b[49m\u001b[43m)\u001b[49m[\u001b[38;5;124m'\u001b[39m\u001b[38;5;124msignal\u001b[39m\u001b[38;5;124m'\u001b[39m]\n\u001b[0;32m      9\u001b[0m \u001b[38;5;66;03m# Extract data according to chapter segments and concatenate\u001b[39;00m\n\u001b[0;32m     10\u001b[0m data_contact \u001b[38;5;241m=\u001b[39m []\n",
      "File \u001b[1;32mc:\\Users\\ycheng70\\AppData\\Local\\anaconda3\\envs\\General\\lib\\bz2.py:184\u001b[0m, in \u001b[0;36mBZ2File.readinto\u001b[1;34m(self, b)\u001b[0m\n\u001b[0;32m    179\u001b[0m \u001b[38;5;250m\u001b[39m\u001b[38;5;124;03m\"\"\"Read bytes into b.\u001b[39;00m\n\u001b[0;32m    180\u001b[0m \n\u001b[0;32m    181\u001b[0m \u001b[38;5;124;03mReturns the number of bytes read (0 for EOF).\u001b[39;00m\n\u001b[0;32m    182\u001b[0m \u001b[38;5;124;03m\"\"\"\u001b[39;00m\n\u001b[0;32m    183\u001b[0m \u001b[38;5;28mself\u001b[39m\u001b[38;5;241m.\u001b[39m_check_can_read()\n\u001b[1;32m--> 184\u001b[0m \u001b[38;5;28;01mreturn\u001b[39;00m \u001b[38;5;28;43mself\u001b[39;49m\u001b[38;5;241;43m.\u001b[39;49m\u001b[43m_buffer\u001b[49m\u001b[38;5;241;43m.\u001b[39;49m\u001b[43mreadinto\u001b[49m\u001b[43m(\u001b[49m\u001b[43mb\u001b[49m\u001b[43m)\u001b[49m\n",
      "File \u001b[1;32mc:\\Users\\ycheng70\\AppData\\Local\\anaconda3\\envs\\General\\lib\\_compression.py:68\u001b[0m, in \u001b[0;36mDecompressReader.readinto\u001b[1;34m(self, b)\u001b[0m\n\u001b[0;32m     66\u001b[0m \u001b[38;5;28;01mdef\u001b[39;00m \u001b[38;5;21mreadinto\u001b[39m(\u001b[38;5;28mself\u001b[39m, b):\n\u001b[0;32m     67\u001b[0m     \u001b[38;5;28;01mwith\u001b[39;00m \u001b[38;5;28mmemoryview\u001b[39m(b) \u001b[38;5;28;01mas\u001b[39;00m view, view\u001b[38;5;241m.\u001b[39mcast(\u001b[38;5;124m\"\u001b[39m\u001b[38;5;124mB\u001b[39m\u001b[38;5;124m\"\u001b[39m) \u001b[38;5;28;01mas\u001b[39;00m byte_view:\n\u001b[1;32m---> 68\u001b[0m         data \u001b[38;5;241m=\u001b[39m \u001b[38;5;28;43mself\u001b[39;49m\u001b[38;5;241;43m.\u001b[39;49m\u001b[43mread\u001b[49m\u001b[43m(\u001b[49m\u001b[38;5;28;43mlen\u001b[39;49m\u001b[43m(\u001b[49m\u001b[43mbyte_view\u001b[49m\u001b[43m)\u001b[49m\u001b[43m)\u001b[49m\n\u001b[0;32m     69\u001b[0m         byte_view[:\u001b[38;5;28mlen\u001b[39m(data)] \u001b[38;5;241m=\u001b[39m data\n\u001b[0;32m     70\u001b[0m     \u001b[38;5;28;01mreturn\u001b[39;00m \u001b[38;5;28mlen\u001b[39m(data)\n",
      "File \u001b[1;32mc:\\Users\\ycheng70\\AppData\\Local\\anaconda3\\envs\\General\\lib\\_compression.py:103\u001b[0m, in \u001b[0;36mDecompressReader.read\u001b[1;34m(self, size)\u001b[0m\n\u001b[0;32m    101\u001b[0m     \u001b[38;5;28;01melse\u001b[39;00m:\n\u001b[0;32m    102\u001b[0m         rawblock \u001b[38;5;241m=\u001b[39m \u001b[38;5;124mb\u001b[39m\u001b[38;5;124m\"\u001b[39m\u001b[38;5;124m\"\u001b[39m\n\u001b[1;32m--> 103\u001b[0m     data \u001b[38;5;241m=\u001b[39m \u001b[38;5;28;43mself\u001b[39;49m\u001b[38;5;241;43m.\u001b[39;49m\u001b[43m_decompressor\u001b[49m\u001b[38;5;241;43m.\u001b[39;49m\u001b[43mdecompress\u001b[49m\u001b[43m(\u001b[49m\u001b[43mrawblock\u001b[49m\u001b[43m,\u001b[49m\u001b[43m \u001b[49m\u001b[43msize\u001b[49m\u001b[43m)\u001b[49m\n\u001b[0;32m    104\u001b[0m \u001b[38;5;28;01mif\u001b[39;00m data:\n\u001b[0;32m    105\u001b[0m     \u001b[38;5;28;01mbreak\u001b[39;00m\n",
      "\u001b[1;31mKeyboardInterrupt\u001b[0m: "
     ]
    }
   ],
   "source": [
    "data_contacts = []\n",
    "for contact in tqdm(contact_names):\n",
    "    if contact == \"Events\":\n",
    "        continue\n",
    "    #Load data\n",
    "    filename = f\"e0010GP_20201118/2020-11-18_e0010GP_{contact}.pbz2\"\n",
    "    data =bz2.BZ2File(filename,\"rb\")\n",
    "    data =cPickle.load(data)['signal']\n",
    "    # Extract data according to chapter segments and concatenate\n",
    "    data_contact = []\n",
    "    for segment in chapter_segments:\n",
    "        data_contact.append(data[segment[0]:segment[1]])\n",
    "    # data_contact = np.concatenate(data_contact)\n",
    "    data_contacts.append(data_contact)\n",
    "# data_contacts = np.array(data_contacts)"
   ]
  },
  {
   "cell_type": "code",
   "execution_count": null,
   "metadata": {},
   "outputs": [],
   "source": [
    "np.save(\"e0010GP_20201118_seeg_contacts.npy\", data_contacts)\n"
   ]
  }
 ],
 "metadata": {
  "kernelspec": {
   "display_name": "Python 3",
   "language": "python",
   "name": "python3"
  },
  "language_info": {
   "codemirror_mode": {
    "name": "ipython",
    "version": 3
   },
   "file_extension": ".py",
   "mimetype": "text/x-python",
   "name": "python",
   "nbconvert_exporter": "python",
   "pygments_lexer": "ipython3",
   "version": "3.10.13"
  }
 },
 "nbformat": 4,
 "nbformat_minor": 2
}
